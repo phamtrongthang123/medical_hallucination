{
 "cells": [
  {
   "cell_type": "code",
   "execution_count": 11,
   "id": "94331185",
   "metadata": {},
   "outputs": [],
   "source": [
    "root = '/scr/thang._./mimic-eye/mimic-eye-integrating-mimic-datasets-with-reflacx-and-eye-gaze-for-multimodal-deep-learning-applications-1.0.0/mimic-eye'"
   ]
  },
  {
   "cell_type": "code",
   "execution_count": 12,
   "id": "35a4775f",
   "metadata": {},
   "outputs": [
    {
     "name": "stdout",
     "output_type": "stream",
     "text": [
      "Found 6292 JPG files\n",
      "First 5 files:\n",
      " - /scr/thang._./mimic-eye/mimic-eye-integrating-mimic-datasets-with-reflacx-and-eye-gaze-for-multimodal-deep-learning-applications-1.0.0/mimic-eye/patient_12745380/CXR-JPG/s57975197/83310773-90e87a49-37d0e876-cdcdba77-0812881b.jpg\n",
      " - /scr/thang._./mimic-eye/mimic-eye-integrating-mimic-datasets-with-reflacx-and-eye-gaze-for-multimodal-deep-learning-applications-1.0.0/mimic-eye/patient_15161734/CXR-JPG/s57523636/6620c86d-6be6ba2b-c1c0beb1-2b89f89b-a0a59da4.jpg\n",
      " - /scr/thang._./mimic-eye/mimic-eye-integrating-mimic-datasets-with-reflacx-and-eye-gaze-for-multimodal-deep-learning-applications-1.0.0/mimic-eye/patient_16282250/CXR-JPG/s53179684/045a679f-0c364ad7-aba4f652-19836f92-3b35b300.jpg\n",
      " - /scr/thang._./mimic-eye/mimic-eye-integrating-mimic-datasets-with-reflacx-and-eye-gaze-for-multimodal-deep-learning-applications-1.0.0/mimic-eye/patient_11234041/CXR-JPG/s53371035/7d7ed5fa-e4644b31-b85d7114-dfe9740a-fc370ef5.jpg\n",
      " - /scr/thang._./mimic-eye/mimic-eye-integrating-mimic-datasets-with-reflacx-and-eye-gaze-for-multimodal-deep-learning-applications-1.0.0/mimic-eye/patient_11234041/CXR-JPG/s53371035/9381659b-300585c6-5d433798-97635180-02f33b38.jpg\n"
     ]
    }
   ],
   "source": [
    "import os\n",
    "import glob\n",
    "\n",
    "# Find all JPG files recursively in the root directory\n",
    "jpg_files = glob.glob(os.path.join(root, '**', '*.jpg'), recursive=True)\n",
    "\n",
    "# Print the first 5 files found (if any)\n",
    "print(f\"Found {len(jpg_files)} JPG files\")\n",
    "if jpg_files:\n",
    "    print(\"First 5 files:\")\n",
    "    for file in jpg_files[:5]:\n",
    "        print(f\" - {file}\")"
   ]
  },
  {
   "cell_type": "code",
   "execution_count": 13,
   "id": "a33a229b",
   "metadata": {},
   "outputs": [
    {
     "name": "stdout",
     "output_type": "stream",
     "text": [
      "File list saved to jpg_files_list.json\n"
     ]
    }
   ],
   "source": [
    "import json\n",
    "import os\n",
    "\n",
    "# Extract file paths relative to root directory for cleaner storage\n",
    "relative_paths = [os.path.relpath(jpg_file, root) for jpg_file in jpg_files]\n",
    "\n",
    "# Create a dictionary with the file paths\n",
    "data = {\n",
    "    'total_files': len(jpg_files),\n",
    "    'file_paths': relative_paths,\n",
    "    'root': root\n",
    "}\n",
    "\n",
    "# Save to JSON file\n",
    "output_file = 'jpg_files_list.json'\n",
    "with open(output_file, 'w') as f:\n",
    "    json.dump(data, f, indent=4)\n",
    "\n",
    "print(f\"File list saved to {output_file}\")"
   ]
  },
  {
   "cell_type": "code",
   "execution_count": 5,
   "id": "0ecd3f27",
   "metadata": {},
   "outputs": [],
   "source": [
    "import pandas as pd\n",
    "\n",
    "gladys = pd.read_csv(\"../chatgpt/gladys.csv\")[:100]\n",
    "all_files = gladys['Filename(2nd edition '].to_list()"
   ]
  },
  {
   "cell_type": "code",
   "execution_count": 6,
   "id": "caf7478d",
   "metadata": {},
   "outputs": [
    {
     "data": {
      "text/plain": [
       "['fa771fa1-d9571d07-bff8f655-327734a7-6e10b29d',\n",
       " '590ae2db-d9330aec-1e81d571-d6bd3751-640cee9b',\n",
       " '4873aa08-977bfd31-fb492e64-6ef432d1-3f12cbe3',\n",
       " 'dcdc4bd9-4301b111-2a65a814-ee8e7bc5-7f0b9a5a',\n",
       " '5bdabba9-388f6646-ac06b5f5-f68b2fd2-3630de21',\n",
       " 'ad0f405d-43502246-89ea5db3-b41c5ae9-48a92ffc',\n",
       " '4a629500-9c3281ca-90bab490-9b6ac9c1-e5e6a580',\n",
       " '494edf19-f6b5dbb7-b35d0129-583ef0da-244c5aa3',\n",
       " 'c48dc8db-35b347c7-deafe540-9d161fdd-7d88173a',\n",
       " '2dcbd4f6-0c675c19-00dff07e-f670060a-aa64d1a8',\n",
       " '8106217e-c41ab813-c6002d3f-ed4ee98b-7b165bae',\n",
       " '38a5ffc8-93297f03-3f0a14e4-aa8ca225-7e968b5b',\n",
       " '44be828c-2e552004-a57126b0-fb159c1f-47f3a1a2',\n",
       " '5f1ac54d-47dfae00-930fa704-514131fa-ee0c138e',\n",
       " 'a5f1348b-3f09fcc2-0a683279-ac1cebdf-60d68865',\n",
       " '52f7cf0a-e13e2328-993ae39b-37ed0efb-14d64e8a',\n",
       " 'a7683ef2-eaff89e7-336f313d-929d3007-b708f4ae',\n",
       " 'bfde4eaa-62b5ebc6-e5bf758d-cb47c6f6-afb4a305',\n",
       " 'd8bb1eda-1acb9229-4531796f-3f4dd3da-ed32b7e2',\n",
       " '014cf120-d578617b-edc3682a-28dc6244-d719eda5',\n",
       " 'fbae5604-a1013966-9879d4a3-7298599f-956824e1',\n",
       " '8ccf0b84-84013d2f-287bdfe0-510bfd7b-865dd733',\n",
       " '1437ead1-e6d10cdc-e3a1478f-2b992dfe-67b0994d',\n",
       " '6d95aa9e-86e4be4a-21a9d81d-a91ae2c0-f260a566',\n",
       " 'f7b69ee3-db7f264c-fca7d1c7-1d372fc0-02b35a47',\n",
       " 'd98be0d5-a648e485-4473a3ef-7762b3ef-2d70507e',\n",
       " '1a1932a9-6d40a33f-f52e88ba-b2c05012-155785dd',\n",
       " 'c4c1d252-3d6e1595-f223c027-2a857d30-0f226c24',\n",
       " '56b4e225-4dfb070d-783280b4-da33f762-168aa398',\n",
       " '6c79a3c1-8d01e0d4-b8b42695-900cae5d-18a8e87a',\n",
       " '236dcb0a-45b0120b-4ac4a231-d4d134f4-c6a2f99c',\n",
       " '427446c1-881f5cce-85191ce1-91a58ba9-0a57d3f5',\n",
       " 'abea5eb9-b7c32823-3a14c5ca-77868030-69c83139',\n",
       " '6e511483-c7e1601c-76890b2f-b0c6b55d-e53bcbf6',\n",
       " 'e5ba5704-ce2f09d3-e28fe2a2-8a9aca96-86f4966a',\n",
       " '9c5c9f70-5499fd6f-b612606d-ab74edeb-dd3cafcc',\n",
       " '05361238-0987cf83-00425fb2-56ed7bdb-14e821da',\n",
       " '6e0ed7cc-d3b1ee12-2f391e3b-52e3fb69-e45d0cf1',\n",
       " '82fb163a-d6d66d47-974aa54e-724bc7ba-1ac4858e',\n",
       " 'ac101d0e-aec485cf-d4be2b4c-0363c849-3918f43e',\n",
       " 'fcfb20b5-6b9561da-1e253a93-222fdaa8-e708200a',\n",
       " 'e1bc012e-099f753b-acef6883-f7bd9673-71bf2b70',\n",
       " 'f0235706-23a99149-2ce3e4b6-5fd32bba-48fae071',\n",
       " '9e727902-c4e94b01-5b35ebbc-bcc34907-beae9795',\n",
       " '8ab67bd9-d58fdc6b-216357ca-d21592a6-35de445f',\n",
       " '720b1d2f-64339a74-16ad8091-b29e7993-66bb109e',\n",
       " 'ab526db5-35fe2dcf-f4076d54-7bd2c43f-ebb6964c',\n",
       " '94e15f36-52b48fdc-58296169-e01f7115-832352b3',\n",
       " '33f55474-d655a599-2246ed29-d8b298c5-b6769841',\n",
       " '7847b651-c522f27b-8f94d954-79307a95-885317a1',\n",
       " '93695a35-ac102c31-26b36f8d-849c0a57-91c66528',\n",
       " '24c20c2c-b1e49685-e1dacb49-c2e7a7eb-35094390',\n",
       " 'cedb49ad-32653f33-c947a497-6985c3e8-c64b542c',\n",
       " '9c01aecd-dc299044-a9fac53a-09a86bf1-58878e8a',\n",
       " '3980916f-015a806b-1c17c01c-f93ffbe8-993b0b0b',\n",
       " '11607036-e5ee7e6f-e950c8d6-d5cca9e0-aaecc150',\n",
       " '137a6058-df2efd12-49b21d33-c0131d41-9ae0a3df',\n",
       " '2c5d34b2-705c9489-156c1093-79778ce4-80f7fb23',\n",
       " '77893f87-02a64a1a-ebe5c531-b269bf7a-6b640931',\n",
       " '89dbe13f-e05f2d49-ffe7e5b6-68373fa4-e38e26f7',\n",
       " '436ea450-a711e954-f609be5e-558f1c53-f89ed13f',\n",
       " 'b822b25b-cb1c4408-58425d96-0ab42b44-ddb5712b',\n",
       " '8bc07edf-59e2263d-c06d6f39-db0f9c07-908cb52b',\n",
       " 'be1760e8-615dd7ce-b4b32252-64bf90db-59699110',\n",
       " '5f656ea8-f09dc65a-527b3768-d677ad0e-89fc2235',\n",
       " 'b2a735c8-c0ad5340-f0909115-24bd053a-e40c0635',\n",
       " '56c0a346-5cab34f9-9b563188-5fad94b0-1f54ff7c',\n",
       " '293fca34-b49ffe0f-52f4185e-1dd82a6a-7976d653',\n",
       " 'df21d00a-917fff26-04708364-bf740ae0-a3e66f95',\n",
       " '4f0203a0-0273938f-07f2d46e-00851e39-59ba124c',\n",
       " '888c19bd-5c440de3-201cedb1-bbb8d0c8-dfe5d659',\n",
       " '7ed1f69a-e4a37198-cf7fd299-1a0275fd-e5fa6960',\n",
       " '00eb6d7f-36bde00e-3418017a-2670dff0-cca2369d',\n",
       " '0cb9b913-27bd8634-b3622ec2-5aa4199a-3f198c6a',\n",
       " 'a01ee94b-5b35f5e1-a544f698-21797294-2098dfed',\n",
       " '84d44cbd-5a95ae82-671b7621-88d3f906-13004a75',\n",
       " '9324c52b-dc0e728d-20470212-c535e7ba-300e03f4',\n",
       " '251dd589-2f14a942-4ed00d0f-2e83a350-b9dcb837',\n",
       " 'c808ea0b-998081e6-883830fa-568b42d4-301bcdcd',\n",
       " '257c9f52-0f0c9004-994dbd15-522a597e-912b68fa',\n",
       " 'b2b5ef86-021eb808-6b08b404-ac61a919-a0f081ab',\n",
       " '6b7249f7-8e8db998-7cd1b492-b28a0665-546c835a',\n",
       " '3c63cd76-472fdc7e-de36a44e-de17a90e-704df67d',\n",
       " '73cbbd32-afe8779a-af2366dd-311ee5e5-4265555a',\n",
       " '5f74278e-2866a20f-bbb819ab-629b45af-2f0c887a',\n",
       " '8bc464e4-3228ea6f-15c7f31b-de85969d-6f8bfd14',\n",
       " '7581ff4c-bc45f56b-fab6f3bb-6886b97d-9d925d25',\n",
       " '4fcf673f-a6d94ea6-a60654db-2615d805-6dc1e6f8',\n",
       " '169198cb-89fad607-7a839c49-21fef2af-a7a3d61d',\n",
       " 'e282f3ae-019457a8-c1ef4c1b-9bda8212-7e3754ef',\n",
       " '638e38a7-14b085fe-c65bf685-7d3ee265-7c420d3e',\n",
       " 'fe9b16ac-8e103e60-4406b0e3-9bc54f52-5ea9446a',\n",
       " 'af6154de-6773b75d-f0f9d054-bfb01586-ae5b6fa1',\n",
       " '37d5cb68-c3c68b23-5bc5544c-83cce14f-b4af4af8',\n",
       " '41dd1231-dae98e3b-ee843b13-5692e18b-1dd7029e',\n",
       " '6cf1f9b1-b896be2f-495edfc7-436e5963-4bb86e29',\n",
       " 'ba4ef6f3-78d52b9d-6b2b2a51-39e6a5c3-f4b6f8e2',\n",
       " '10081539-8d0219c6-c23b1b45-f92aa496-3b3f2daf',\n",
       " 'f1e960ef-91ff47e5-ce92da81-976ed408-c3766e39',\n",
       " 'bddd75a2-fedbcd4d-48a9117c-bf518813-4a4931a4']"
      ]
     },
     "execution_count": 6,
     "metadata": {},
     "output_type": "execute_result"
    }
   ],
   "source": [
    "all_files"
   ]
  },
  {
   "cell_type": "code",
   "execution_count": 14,
   "id": "0b1e10a1",
   "metadata": {},
   "outputs": [
    {
     "name": "stdout",
     "output_type": "stream",
     "text": [
      "Total JPG files: 6292\n",
      "Files matching criteria: 100\n",
      "\n",
      "First 5 matching files:\n",
      " - /scr/thang._./mimic-eye/mimic-eye-integrating-mimic-datasets-with-reflacx-and-eye-gaze-for-multimodal-deep-learning-applications-1.0.0/mimic-eye/patient_10046282/CXR-JPG/s59720796/05361238-0987cf83-00425fb2-56ed7bdb-14e821da.jpg\n",
      " - /scr/thang._./mimic-eye/mimic-eye-integrating-mimic-datasets-with-reflacx-and-eye-gaze-for-multimodal-deep-learning-applications-1.0.0/mimic-eye/patient_10046282/CXR-JPG/s59720796/9c5c9f70-5499fd6f-b612606d-ab74edeb-dd3cafcc.jpg\n",
      " - /scr/thang._./mimic-eye/mimic-eye-integrating-mimic-datasets-with-reflacx-and-eye-gaze-for-multimodal-deep-learning-applications-1.0.0/mimic-eye/patient_10103748/CXR-JPG/s55934580/7ed1f69a-e4a37198-cf7fd299-1a0275fd-e5fa6960.jpg\n",
      " - /scr/thang._./mimic-eye/mimic-eye-integrating-mimic-datasets-with-reflacx-and-eye-gaze-for-multimodal-deep-learning-applications-1.0.0/mimic-eye/patient_10141577/CXR-JPG/s52731052/37d5cb68-c3c68b23-5bc5544c-83cce14f-b4af4af8.jpg\n",
      " - /scr/thang._./mimic-eye/mimic-eye-integrating-mimic-datasets-with-reflacx-and-eye-gaze-for-multimodal-deep-learning-applications-1.0.0/mimic-eye/patient_10116166/CXR-JPG/s53962999/c808ea0b-998081e6-883830fa-568b42d4-301bcdcd.jpg\n"
     ]
    }
   ],
   "source": [
    "# Create a filtered list that only includes paths containing strings from all_files\n",
    "filtered_paths = []\n",
    "\n",
    "for path in jpg_files:\n",
    "    # Check if any string in all_files is in the path\n",
    "    if any(file_id in path for file_id in all_files):\n",
    "        filtered_paths.append(path)\n",
    "\n",
    "print(f\"Total JPG files: {len(jpg_files)}\")\n",
    "print(f\"Files matching criteria: {len(filtered_paths)}\")\n",
    "\n",
    "# Show some examples if any matches found\n",
    "if filtered_paths:\n",
    "    print(\"\\nFirst 5 matching files:\")\n",
    "    for file in filtered_paths[:5]:\n",
    "        print(f\" - {file}\")\n",
    "else:\n",
    "    print(\"\\nNo matches found between JPG files and the file IDs in all_files.\")"
   ]
  },
  {
   "cell_type": "code",
   "execution_count": 17,
   "id": "c6b7c491",
   "metadata": {},
   "outputs": [
    {
     "name": "stdout",
     "output_type": "stream",
     "text": [
      "File list saved to jpg_files_list.json\n"
     ]
    }
   ],
   "source": [
    "import json\n",
    "import os\n",
    "\n",
    "# Extract file paths relative to root directory for cleaner storage\n",
    "relative_paths = [os.path.relpath(jpg_file, root) for jpg_file in filtered_paths]\n",
    "\n",
    "# Create a dictionary with the file paths\n",
    "data = {\n",
    "    'total_files': len(filtered_paths),\n",
    "    'file_paths': relative_paths,\n",
    "    'root': root\n",
    "}\n",
    "\n",
    "# Save to JSON file\n",
    "output_file = 'jpg_files_list.json'\n",
    "with open(output_file, 'w') as f:\n",
    "    json.dump(data, f, indent=4)\n",
    "\n",
    "print(f\"File list saved to {output_file}\")"
   ]
  },
  {
   "cell_type": "code",
   "execution_count": null,
   "id": "b6855992",
   "metadata": {},
   "outputs": [],
   "source": []
  }
 ],
 "metadata": {
  "kernelspec": {
   "display_name": "medgemma",
   "language": "python",
   "name": "python3"
  },
  "language_info": {
   "codemirror_mode": {
    "name": "ipython",
    "version": 3
   },
   "file_extension": ".py",
   "mimetype": "text/x-python",
   "name": "python",
   "nbconvert_exporter": "python",
   "pygments_lexer": "ipython3",
   "version": "3.10.18"
  }
 },
 "nbformat": 4,
 "nbformat_minor": 5
}
