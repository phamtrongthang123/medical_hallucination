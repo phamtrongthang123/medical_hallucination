{
 "cells": [
  {
   "cell_type": "code",
   "execution_count": 1,
   "id": "2930e595",
   "metadata": {},
   "outputs": [
    {
     "name": "stderr",
     "output_type": "stream",
     "text": [
      "/home/tp030/miniforge3/envs/medgemma/lib/python3.10/site-packages/tqdm/auto.py:21: TqdmWarning: IProgress not found. Please update jupyter and ipywidgets. See https://ipywidgets.readthedocs.io/en/stable/user_install.html\n",
      "  from .autonotebook import tqdm as notebook_tqdm\n",
      "Loading checkpoint shards: 100%|██████████| 12/12 [00:15<00:00,  1.29s/it]\n",
      "Using a slow image processor as `use_fast` is unset and a slow processor was saved with this model. `use_fast=True` will be the default behavior in v4.52, even if the model was saved with a slow processor. This will result in minor differences in outputs. You'll still be able to use a slow processor with `use_fast=False`.\n"
     ]
    },
    {
     "name": "stdout",
     "output_type": "stream",
     "text": [
      "Okay, as a helpful medical assistant, I can explain the key differences between bacterial and viral pneumonia. It's important to remember that a definitive diagnosis often requires specific tests, but clinical presentation and certain risk factors can help guide the initial assessment.\n",
      "\n",
      "Here's a breakdown of how we typically differentiate between the two:\n",
      "\n",
      "**1. Causative Agent:**\n",
      "\n",
      "*   **Bacterial Pneumonia:** Caused by bacteria (e.g., *Streptococcus pneumoniae*, *Haemophilus influenzae*, *Mycoplasma pneumoniae*, *Staphylococcus aureus*, *Klebsiella pneumoniae*).\n",
      "*   **Viral Pneumonia:** Caused by viruses (e.g., Influenza virus, Respiratory Syncytial Virus (RSV), Adenovirus, Rhinovirus, Coronavirus (including SARS-CoV-2)).\n",
      "\n",
      "**2. Onset and Progression:**\n",
      "\n",
      "*   **Bacterial Pneumonia:** Often has a more **abrupt** onset. Symptoms tend to develop relatively quickly (\n"
     ]
    }
   ],
   "source": [
    "# pip install accelerate\n",
    "from transformers import AutoProcessor, AutoModelForImageTextToText\n",
    "from PIL import Image\n",
    "import requests\n",
    "import torch\n",
    "\n",
    "model_id = \"google/medgemma-27b-it\"\n",
    "\n",
    "model = AutoModelForImageTextToText.from_pretrained(\n",
    "    model_id,\n",
    "    torch_dtype=torch.bfloat16,\n",
    "    device_map=\"auto\",\n",
    ")\n",
    "processor = AutoProcessor.from_pretrained(model_id)\n",
    "\n",
    "messages = [\n",
    "    {\n",
    "        \"role\": \"system\",\n",
    "        \"content\": [{\"type\": \"text\", \"text\": \"You are a helpful medical assistant.\"}]\n",
    "    },\n",
    "    {\n",
    "        \"role\": \"user\",\n",
    "        \"content\": [{\"type\": \"text\", \"text\": \"How do you differentiate bacterial from viral pneumonia?\"}]\n",
    "    }\n",
    "]\n",
    "\n",
    "inputs = processor.apply_chat_template(\n",
    "    messages, add_generation_prompt=True, tokenize=True,\n",
    "    return_dict=True, return_tensors=\"pt\"\n",
    ").to(model.device, dtype=torch.bfloat16)\n",
    "\n",
    "input_len = inputs[\"input_ids\"].shape[-1]\n",
    "\n",
    "with torch.inference_mode():\n",
    "    generation = model.generate(**inputs, max_new_tokens=200, do_sample=False)\n",
    "    generation = generation[0][input_len:]\n",
    "\n",
    "decoded = processor.decode(generation, skip_special_tokens=True)\n",
    "print(decoded)\n"
   ]
  },
  {
   "cell_type": "code",
   "execution_count": 2,
   "id": "254e829b",
   "metadata": {},
   "outputs": [
    {
     "name": "stdout",
     "output_type": "stream",
     "text": [
      "Okay, let's analyze this chest X-ray.\n",
      "\n",
      "**Overall Impression:**\n",
      "\n",
      "This is a standard posteroanterior (PA) view of the chest. The image quality appears good, with adequate penetration and contrast. The patient is positioned well, allowing for a clear view of the lungs, heart, mediastinum, and bony structures.\n",
      "\n",
      "**Detailed Breakdown:**\n",
      "\n",
      "1.  **Lungs:**\n",
      "    *   **Parenchyma:** The lung fields appear clear bilaterally. There are no obvious signs of consolidation (pneumonia), masses, nodules, or significant interstitial changes. The vascular markings are normal in caliber and distribution.\n",
      "    *   **Pleura:** No pleural effusions (fluid collections) or pneumothorax (collapsed lung) are visible. The costophrenic angles (where the diaphragm meets the ribs) are sharp and clear.\n",
      "    *   **Hila:** The hila (where the major bronchi and vessels enter the lungs) appear normal in\n"
     ]
    }
   ],
   "source": [
    "\n",
    "# Image attribution: Stillwaterising, CC0, via Wikimedia Commons\n",
    "image_url = \"https://upload.wikimedia.org/wikipedia/commons/c/c8/Chest_Xray_PA_3-8-2010.png\"\n",
    "image = Image.open(requests.get(image_url, headers={\"User-Agent\": \"example\"}, stream=True).raw)\n",
    "\n",
    "messages = [\n",
    "    {\n",
    "        \"role\": \"system\",\n",
    "        \"content\": [{\"type\": \"text\", \"text\": \"You are an expert radiologist.\"}]\n",
    "    },\n",
    "    {\n",
    "        \"role\": \"user\",\n",
    "        \"content\": [\n",
    "            {\"type\": \"text\", \"text\": \"Describe this X-ray\"},\n",
    "            {\"type\": \"image\", \"image\": image}\n",
    "        ]\n",
    "    }\n",
    "]\n",
    "\n",
    "inputs = processor.apply_chat_template(\n",
    "    messages, add_generation_prompt=True, tokenize=True,\n",
    "    return_dict=True, return_tensors=\"pt\"\n",
    ").to(model.device, dtype=torch.bfloat16)\n",
    "\n",
    "input_len = inputs[\"input_ids\"].shape[-1]\n",
    "\n",
    "with torch.inference_mode():\n",
    "    generation = model.generate(**inputs, max_new_tokens=200, do_sample=False)\n",
    "    generation = generation[0][input_len:]\n",
    "\n",
    "decoded = processor.decode(generation, skip_special_tokens=True)\n",
    "print(decoded)\n"
   ]
  },
  {
   "cell_type": "code",
   "execution_count": null,
   "id": "16057250",
   "metadata": {},
   "outputs": [],
   "source": []
  }
 ],
 "metadata": {
  "kernelspec": {
   "display_name": "medgemma",
   "language": "python",
   "name": "python3"
  },
  "language_info": {
   "codemirror_mode": {
    "name": "ipython",
    "version": 3
   },
   "file_extension": ".py",
   "mimetype": "text/x-python",
   "name": "python",
   "nbconvert_exporter": "python",
   "pygments_lexer": "ipython3",
   "version": "3.10.18"
  }
 },
 "nbformat": 4,
 "nbformat_minor": 5
}
