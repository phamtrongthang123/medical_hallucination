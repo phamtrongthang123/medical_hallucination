{
 "cells": [
  {
   "cell_type": "code",
   "execution_count": 1,
   "id": "38b02c33",
   "metadata": {},
   "outputs": [],
   "source": [
    "import torch\n",
    "\n",
    "# Load the attention scores and decoded data\n",
    "attention_scores = torch.load('attention_scores.pt')\n",
    "decoded = torch.load('decoded.pt')"
   ]
  },
  {
   "cell_type": "code",
   "execution_count": 2,
   "id": "888cf4b1",
   "metadata": {},
   "outputs": [
    {
     "data": {
      "text/plain": [
       "'The lungs appear clear bilaterally. There is no evidence of consolidation, effusion, or pneumothorax. The heart size is within normal limits. The mediastinum is unremarkable. The bony structures are intact. There are no obvious acute findings.\\n'"
      ]
     },
     "execution_count": 2,
     "metadata": {},
     "output_type": "execute_result"
    }
   ],
   "source": [
    "decoded"
   ]
  },
  {
   "cell_type": "code",
   "execution_count": 13,
   "id": "bedfc4ed",
   "metadata": {},
   "outputs": [
    {
     "data": {
      "text/plain": [
       "tuple"
      ]
     },
     "execution_count": 13,
     "metadata": {},
     "output_type": "execute_result"
    }
   ],
   "source": [
    "type(attention_scores)"
   ]
  },
  {
   "cell_type": "code",
   "execution_count": 5,
   "id": "9f539d25",
   "metadata": {},
   "outputs": [
    {
     "data": {
      "text/plain": [
       "50"
      ]
     },
     "execution_count": 5,
     "metadata": {},
     "output_type": "execute_result"
    }
   ],
   "source": [
    "len(attention_scores)"
   ]
  },
  {
   "cell_type": "code",
   "execution_count": 9,
   "id": "6cdbd7db",
   "metadata": {},
   "outputs": [
    {
     "data": {
      "text/plain": [
       "34"
      ]
     },
     "execution_count": 9,
     "metadata": {},
     "output_type": "execute_result"
    }
   ],
   "source": [
    "len(attention_scores[0])\n"
   ]
  },
  {
   "cell_type": "code",
   "execution_count": 12,
   "id": "dc7dd7f0",
   "metadata": {},
   "outputs": [
    {
     "data": {
      "text/plain": [
       "torch.Size([1, 8, 293, 293])"
      ]
     },
     "execution_count": 12,
     "metadata": {},
     "output_type": "execute_result"
    }
   ],
   "source": [
    "attention_scores[0][0].shape\n"
   ]
  },
  {
   "cell_type": "code",
   "execution_count": null,
   "id": "f9cc29da",
   "metadata": {},
   "outputs": [],
   "source": []
  }
 ],
 "metadata": {
  "kernelspec": {
   "display_name": "medgemma",
   "language": "python",
   "name": "python3"
  },
  "language_info": {
   "codemirror_mode": {
    "name": "ipython",
    "version": 3
   },
   "file_extension": ".py",
   "mimetype": "text/x-python",
   "name": "python",
   "nbconvert_exporter": "python",
   "pygments_lexer": "ipython3",
   "version": "3.10.18"
  }
 },
 "nbformat": 4,
 "nbformat_minor": 5
}
